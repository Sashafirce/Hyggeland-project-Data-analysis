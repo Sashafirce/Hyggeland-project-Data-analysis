{
 "cells": [
  {
   "cell_type": "code",
   "execution_count": 26,
   "id": "2e599607",
   "metadata": {},
   "outputs": [],
   "source": [
    "#Step 1: Import required libraries\n",
    "\n",
    "import pandas as pd\n",
    "import seaborn as sns\n",
    "import matplotlib.pyplot as plt\n"
   ]
  },
  {
   "cell_type": "markdown",
   "id": "a67933ca",
   "metadata": {},
   "source": [
    "This a Data analysis of HYGGELAND Datasets to asses their customers behaviour, identfy popular products to optimise the prices and increase the sales.  For that we need to prepare the dataset.\n",
    "First import all the required libraries to do the data analysis."
   ]
  },
  {
   "cell_type": "markdown",
   "id": "2093cea8",
   "metadata": {},
   "source": [
    "Second, we extract the dataset from the \"Raw\" folder"
   ]
  },
  {
   "cell_type": "code",
   "execution_count": 8,
   "id": "a019d7ae",
   "metadata": {},
   "outputs": [
    {
     "name": "stdout",
     "output_type": "stream",
     "text": [
      "\n",
      "--- Dataset Info (Full) ---\n",
      "<class 'pandas.core.frame.DataFrame'>\n",
      "RangeIndex: 541909 entries, 0 to 541908\n",
      "Data columns (total 8 columns):\n",
      " #   Column       Non-Null Count   Dtype  \n",
      "---  ------       --------------   -----  \n",
      " 0   InvoiceNo    541909 non-null  object \n",
      " 1   StockCode    541909 non-null  object \n",
      " 2   Description  540455 non-null  object \n",
      " 3   Quantity     541909 non-null  int64  \n",
      " 4   InvoiceDate  541909 non-null  object \n",
      " 5   UnitPrice    541909 non-null  float64\n",
      " 6   CustomerID   541909 non-null  int64  \n",
      " 7   Country      541909 non-null  object \n",
      "dtypes: float64(1), int64(2), object(5)\n",
      "memory usage: 33.1+ MB\n"
     ]
    }
   ],
   "source": [
    "#step 2: Load the dataset\n",
    "df_full = pd.read_csv(\"C:/Users/Sheila/Documents/VSCODE PROJECTS/HYGGELAND PROJECT/Hyggeland-project-Data-analysis/jupyter_notebooks/Data/Inputs/Raw/Online_Retail.csv\")\n",
    "# Display first few rows\n",
    "df_full.head()\n",
    "print(\"\\n--- Dataset Info (Full) ---\")\n",
    "df_full.info()"
   ]
  },
  {
   "cell_type": "markdown",
   "id": "da1dea88",
   "metadata": {},
   "source": [
    "Third, we are going to verify there is not any error, miss data, etc.\n"
   ]
  },
  {
   "cell_type": "code",
   "execution_count": 9,
   "id": "6c459942",
   "metadata": {},
   "outputs": [
    {
     "name": "stdout",
     "output_type": "stream",
     "text": [
      "\n",
      "--- Summary Statistics (Full) ---\n",
      "       InvoiceNo StockCode                         Description       Quantity  \\\n",
      "count     541909    541909                              540455  541909.000000   \n",
      "unique     25900      4070                                4223            NaN   \n",
      "top       573585    85123A  WHITE HANGING HEART T-LIGHT HOLDER            NaN   \n",
      "freq        1114      2313                                2369            NaN   \n",
      "mean         NaN       NaN                                 NaN       9.552250   \n",
      "std          NaN       NaN                                 NaN     218.081158   \n",
      "min          NaN       NaN                                 NaN  -80995.000000   \n",
      "25%          NaN       NaN                                 NaN       1.000000   \n",
      "50%          NaN       NaN                                 NaN       3.000000   \n",
      "75%          NaN       NaN                                 NaN      10.000000   \n",
      "max          NaN       NaN                                 NaN   80995.000000   \n",
      "\n",
      "                InvoiceDate      UnitPrice     CustomerID         Country  \n",
      "count                541909  541909.000000  541909.000000          541909  \n",
      "unique                23260            NaN            NaN              38  \n",
      "top     2011-10-31 14:41:00            NaN            NaN  United Kingdom  \n",
      "freq                   1114            NaN            NaN          495478  \n",
      "mean                    NaN       4.611114   15287.518434             NaN  \n",
      "std                     NaN      96.759853    1484.746041             NaN  \n",
      "min                     NaN  -11062.060000   12346.000000             NaN  \n",
      "25%                     NaN       1.250000   14367.000000             NaN  \n",
      "50%                     NaN       2.080000   15287.000000             NaN  \n",
      "75%                     NaN       4.130000   16255.000000             NaN  \n",
      "max                     NaN   38970.000000   18287.000000             NaN  \n",
      "\n",
      "--- Missing Values (Full) ---\n",
      "InvoiceNo         0\n",
      "StockCode         0\n",
      "Description    1454\n",
      "Quantity          0\n",
      "InvoiceDate       0\n",
      "UnitPrice         0\n",
      "CustomerID        0\n",
      "Country           0\n",
      "dtype: int64\n"
     ]
    }
   ],
   "source": [
    "# --- Step 2: Initial Data Inspection ---\n",
    "\n",
    "print(\"\\n--- Summary Statistics (Full) ---\")\n",
    "print(df_full.describe(include='all'))\n",
    "print(\"\\n--- Missing Values (Full) ---\")\n",
    "print(df_full.isnull().sum())\n"
   ]
  },
  {
   "cell_type": "markdown",
   "id": "0e375703",
   "metadata": {},
   "source": [
    "The preliminary inspection indicates that  there are 1,454 missing values which is a minimal  percentage (~0.3% of rows), regarding the CustomerID there are no missing values. Despite the low percentage we are going to drop these row, remove invalid values "
   ]
  },
  {
   "cell_type": "code",
   "execution_count": 10,
   "id": "fd9c3cb0",
   "metadata": {},
   "outputs": [
    {
     "data": {
      "text/html": [
       "<div>\n",
       "<style scoped>\n",
       "    .dataframe tbody tr th:only-of-type {\n",
       "        vertical-align: middle;\n",
       "    }\n",
       "\n",
       "    .dataframe tbody tr th {\n",
       "        vertical-align: top;\n",
       "    }\n",
       "\n",
       "    .dataframe thead th {\n",
       "        text-align: right;\n",
       "    }\n",
       "</style>\n",
       "<table border=\"1\" class=\"dataframe\">\n",
       "  <thead>\n",
       "    <tr style=\"text-align: right;\">\n",
       "      <th></th>\n",
       "      <th>InvoiceNo</th>\n",
       "      <th>StockCode</th>\n",
       "      <th>Description</th>\n",
       "      <th>Quantity</th>\n",
       "      <th>InvoiceDate</th>\n",
       "      <th>UnitPrice</th>\n",
       "      <th>CustomerID</th>\n",
       "      <th>Country</th>\n",
       "    </tr>\n",
       "  </thead>\n",
       "  <tbody>\n",
       "    <tr>\n",
       "      <th>0</th>\n",
       "      <td>536365</td>\n",
       "      <td>85123A</td>\n",
       "      <td>WHITE HANGING HEART T-LIGHT HOLDER</td>\n",
       "      <td>6</td>\n",
       "      <td>2010-12-01 08:26:00</td>\n",
       "      <td>2.55</td>\n",
       "      <td>17850</td>\n",
       "      <td>United Kingdom</td>\n",
       "    </tr>\n",
       "    <tr>\n",
       "      <th>1</th>\n",
       "      <td>536365</td>\n",
       "      <td>71053</td>\n",
       "      <td>WHITE METAL LANTERN</td>\n",
       "      <td>6</td>\n",
       "      <td>2010-12-01 08:26:00</td>\n",
       "      <td>3.39</td>\n",
       "      <td>17850</td>\n",
       "      <td>United Kingdom</td>\n",
       "    </tr>\n",
       "    <tr>\n",
       "      <th>2</th>\n",
       "      <td>536365</td>\n",
       "      <td>84406B</td>\n",
       "      <td>CREAM CUPID HEARTS COAT HANGER</td>\n",
       "      <td>8</td>\n",
       "      <td>2010-12-01 08:26:00</td>\n",
       "      <td>2.75</td>\n",
       "      <td>17850</td>\n",
       "      <td>United Kingdom</td>\n",
       "    </tr>\n",
       "    <tr>\n",
       "      <th>3</th>\n",
       "      <td>536365</td>\n",
       "      <td>84029G</td>\n",
       "      <td>KNITTED UNION FLAG HOT WATER BOTTLE</td>\n",
       "      <td>6</td>\n",
       "      <td>2010-12-01 08:26:00</td>\n",
       "      <td>3.39</td>\n",
       "      <td>17850</td>\n",
       "      <td>United Kingdom</td>\n",
       "    </tr>\n",
       "    <tr>\n",
       "      <th>4</th>\n",
       "      <td>536365</td>\n",
       "      <td>84029E</td>\n",
       "      <td>RED WOOLLY HOTTIE WHITE HEART.</td>\n",
       "      <td>6</td>\n",
       "      <td>2010-12-01 08:26:00</td>\n",
       "      <td>3.39</td>\n",
       "      <td>17850</td>\n",
       "      <td>United Kingdom</td>\n",
       "    </tr>\n",
       "  </tbody>\n",
       "</table>\n",
       "</div>"
      ],
      "text/plain": [
       "  InvoiceNo StockCode                          Description  Quantity  \\\n",
       "0    536365    85123A   WHITE HANGING HEART T-LIGHT HOLDER         6   \n",
       "1    536365     71053                  WHITE METAL LANTERN         6   \n",
       "2    536365    84406B       CREAM CUPID HEARTS COAT HANGER         8   \n",
       "3    536365    84029G  KNITTED UNION FLAG HOT WATER BOTTLE         6   \n",
       "4    536365    84029E       RED WOOLLY HOTTIE WHITE HEART.         6   \n",
       "\n",
       "           InvoiceDate  UnitPrice  CustomerID         Country  \n",
       "0  2010-12-01 08:26:00       2.55       17850  United Kingdom  \n",
       "1  2010-12-01 08:26:00       3.39       17850  United Kingdom  \n",
       "2  2010-12-01 08:26:00       2.75       17850  United Kingdom  \n",
       "3  2010-12-01 08:26:00       3.39       17850  United Kingdom  \n",
       "4  2010-12-01 08:26:00       3.39       17850  United Kingdom  "
      ]
     },
     "execution_count": 10,
     "metadata": {},
     "output_type": "execute_result"
    }
   ],
   "source": [
    "# Step 3: Remove missing product descriptions\n",
    "df_full = df_full.dropna(subset=[\"Description\"])\n",
    "\n",
    "# Step 4: Remove returns or invalid values\n",
    "df_full = df_full[df_full[\"Quantity\"] > 0]\n",
    "df_full = df_full[df_full[\"UnitPrice\"] > 0]\n",
    "df_full.head()\n",
    "\n"
   ]
  },
  {
   "cell_type": "markdown",
   "id": "3cd4e274",
   "metadata": {},
   "source": [
    "Now, we are going to load the new data to the \"Input\" folder and then we will start working with it."
   ]
  },
  {
   "cell_type": "code",
   "execution_count": 11,
   "id": "ded788fb",
   "metadata": {},
   "outputs": [
    {
     "name": "stdout",
     "output_type": "stream",
     "text": [
      "✅ Cleaned data saved successfully.\n"
     ]
    },
    {
     "data": {
      "text/html": [
       "<div>\n",
       "<style scoped>\n",
       "    .dataframe tbody tr th:only-of-type {\n",
       "        vertical-align: middle;\n",
       "    }\n",
       "\n",
       "    .dataframe tbody tr th {\n",
       "        vertical-align: top;\n",
       "    }\n",
       "\n",
       "    .dataframe thead th {\n",
       "        text-align: right;\n",
       "    }\n",
       "</style>\n",
       "<table border=\"1\" class=\"dataframe\">\n",
       "  <thead>\n",
       "    <tr style=\"text-align: right;\">\n",
       "      <th></th>\n",
       "      <th>InvoiceNo</th>\n",
       "      <th>StockCode</th>\n",
       "      <th>Description</th>\n",
       "      <th>Quantity</th>\n",
       "      <th>InvoiceDate</th>\n",
       "      <th>UnitPrice</th>\n",
       "      <th>CustomerID</th>\n",
       "      <th>Country</th>\n",
       "    </tr>\n",
       "  </thead>\n",
       "  <tbody>\n",
       "    <tr>\n",
       "      <th>0</th>\n",
       "      <td>536365</td>\n",
       "      <td>85123A</td>\n",
       "      <td>WHITE HANGING HEART T-LIGHT HOLDER</td>\n",
       "      <td>6</td>\n",
       "      <td>2010-12-01 08:26:00</td>\n",
       "      <td>2.55</td>\n",
       "      <td>17850</td>\n",
       "      <td>United Kingdom</td>\n",
       "    </tr>\n",
       "    <tr>\n",
       "      <th>1</th>\n",
       "      <td>536365</td>\n",
       "      <td>71053</td>\n",
       "      <td>WHITE METAL LANTERN</td>\n",
       "      <td>6</td>\n",
       "      <td>2010-12-01 08:26:00</td>\n",
       "      <td>3.39</td>\n",
       "      <td>17850</td>\n",
       "      <td>United Kingdom</td>\n",
       "    </tr>\n",
       "    <tr>\n",
       "      <th>2</th>\n",
       "      <td>536365</td>\n",
       "      <td>84406B</td>\n",
       "      <td>CREAM CUPID HEARTS COAT HANGER</td>\n",
       "      <td>8</td>\n",
       "      <td>2010-12-01 08:26:00</td>\n",
       "      <td>2.75</td>\n",
       "      <td>17850</td>\n",
       "      <td>United Kingdom</td>\n",
       "    </tr>\n",
       "    <tr>\n",
       "      <th>3</th>\n",
       "      <td>536365</td>\n",
       "      <td>84029G</td>\n",
       "      <td>KNITTED UNION FLAG HOT WATER BOTTLE</td>\n",
       "      <td>6</td>\n",
       "      <td>2010-12-01 08:26:00</td>\n",
       "      <td>3.39</td>\n",
       "      <td>17850</td>\n",
       "      <td>United Kingdom</td>\n",
       "    </tr>\n",
       "    <tr>\n",
       "      <th>4</th>\n",
       "      <td>536365</td>\n",
       "      <td>84029E</td>\n",
       "      <td>RED WOOLLY HOTTIE WHITE HEART.</td>\n",
       "      <td>6</td>\n",
       "      <td>2010-12-01 08:26:00</td>\n",
       "      <td>3.39</td>\n",
       "      <td>17850</td>\n",
       "      <td>United Kingdom</td>\n",
       "    </tr>\n",
       "  </tbody>\n",
       "</table>\n",
       "</div>"
      ],
      "text/plain": [
       "  InvoiceNo StockCode                          Description  Quantity  \\\n",
       "0    536365    85123A   WHITE HANGING HEART T-LIGHT HOLDER         6   \n",
       "1    536365     71053                  WHITE METAL LANTERN         6   \n",
       "2    536365    84406B       CREAM CUPID HEARTS COAT HANGER         8   \n",
       "3    536365    84029G  KNITTED UNION FLAG HOT WATER BOTTLE         6   \n",
       "4    536365    84029E       RED WOOLLY HOTTIE WHITE HEART.         6   \n",
       "\n",
       "           InvoiceDate  UnitPrice  CustomerID         Country  \n",
       "0  2010-12-01 08:26:00       2.55       17850  United Kingdom  \n",
       "1  2010-12-01 08:26:00       3.39       17850  United Kingdom  \n",
       "2  2010-12-01 08:26:00       2.75       17850  United Kingdom  \n",
       "3  2010-12-01 08:26:00       3.39       17850  United Kingdom  \n",
       "4  2010-12-01 08:26:00       3.39       17850  United Kingdom  "
      ]
     },
     "execution_count": 11,
     "metadata": {},
     "output_type": "execute_result"
    }
   ],
   "source": [
    "import os\n",
    "#Step 5: Export cleaned dataset\n",
    "# Make sure the directory exists\n",
    "os.makedirs(\"Data/Inputs\", exist_ok=True)\n",
    "\n",
    "# Step 6: Export to CSV\n",
    "df_full.to_csv(os.path.join(\"Data/Inputs\", \"Cleaned_Online_Retail_Full.csv\"), index=False)\n",
    "print(\"✅ Cleaned data saved successfully.\")\n",
    "df_full.head()"
   ]
  },
  {
   "cell_type": "markdown",
   "id": "5e9d5ccf",
   "metadata": {},
   "source": [
    "I have realised that the labels of the columns are not uniform so, I will change the labels and replace the spaces in column names with underscores.\n"
   ]
  },
  {
   "cell_type": "code",
   "execution_count": 12,
   "id": "77fc3374",
   "metadata": {},
   "outputs": [
    {
     "name": "stdout",
     "output_type": "stream",
     "text": [
      "Index(['invoice_no', 'stock_code', 'description', 'quantity', 'invoice_date',\n",
      "       'unit_price', 'customer_id', 'country'],\n",
      "      dtype='object')\n"
     ]
    },
    {
     "data": {
      "text/html": [
       "<div>\n",
       "<style scoped>\n",
       "    .dataframe tbody tr th:only-of-type {\n",
       "        vertical-align: middle;\n",
       "    }\n",
       "\n",
       "    .dataframe tbody tr th {\n",
       "        vertical-align: top;\n",
       "    }\n",
       "\n",
       "    .dataframe thead th {\n",
       "        text-align: right;\n",
       "    }\n",
       "</style>\n",
       "<table border=\"1\" class=\"dataframe\">\n",
       "  <thead>\n",
       "    <tr style=\"text-align: right;\">\n",
       "      <th></th>\n",
       "      <th>invoice_no</th>\n",
       "      <th>stock_code</th>\n",
       "      <th>description</th>\n",
       "      <th>quantity</th>\n",
       "      <th>invoice_date</th>\n",
       "      <th>unit_price</th>\n",
       "      <th>customer_id</th>\n",
       "      <th>country</th>\n",
       "    </tr>\n",
       "  </thead>\n",
       "  <tbody>\n",
       "    <tr>\n",
       "      <th>0</th>\n",
       "      <td>536365</td>\n",
       "      <td>85123A</td>\n",
       "      <td>WHITE HANGING HEART T-LIGHT HOLDER</td>\n",
       "      <td>6</td>\n",
       "      <td>2010-12-01 08:26:00</td>\n",
       "      <td>2.55</td>\n",
       "      <td>17850</td>\n",
       "      <td>United Kingdom</td>\n",
       "    </tr>\n",
       "    <tr>\n",
       "      <th>1</th>\n",
       "      <td>536365</td>\n",
       "      <td>71053</td>\n",
       "      <td>WHITE METAL LANTERN</td>\n",
       "      <td>6</td>\n",
       "      <td>2010-12-01 08:26:00</td>\n",
       "      <td>3.39</td>\n",
       "      <td>17850</td>\n",
       "      <td>United Kingdom</td>\n",
       "    </tr>\n",
       "    <tr>\n",
       "      <th>2</th>\n",
       "      <td>536365</td>\n",
       "      <td>84406B</td>\n",
       "      <td>CREAM CUPID HEARTS COAT HANGER</td>\n",
       "      <td>8</td>\n",
       "      <td>2010-12-01 08:26:00</td>\n",
       "      <td>2.75</td>\n",
       "      <td>17850</td>\n",
       "      <td>United Kingdom</td>\n",
       "    </tr>\n",
       "    <tr>\n",
       "      <th>3</th>\n",
       "      <td>536365</td>\n",
       "      <td>84029G</td>\n",
       "      <td>KNITTED UNION FLAG HOT WATER BOTTLE</td>\n",
       "      <td>6</td>\n",
       "      <td>2010-12-01 08:26:00</td>\n",
       "      <td>3.39</td>\n",
       "      <td>17850</td>\n",
       "      <td>United Kingdom</td>\n",
       "    </tr>\n",
       "    <tr>\n",
       "      <th>4</th>\n",
       "      <td>536365</td>\n",
       "      <td>84029E</td>\n",
       "      <td>RED WOOLLY HOTTIE WHITE HEART.</td>\n",
       "      <td>6</td>\n",
       "      <td>2010-12-01 08:26:00</td>\n",
       "      <td>3.39</td>\n",
       "      <td>17850</td>\n",
       "      <td>United Kingdom</td>\n",
       "    </tr>\n",
       "  </tbody>\n",
       "</table>\n",
       "</div>"
      ],
      "text/plain": [
       "  invoice_no stock_code                          description  quantity  \\\n",
       "0     536365     85123A   WHITE HANGING HEART T-LIGHT HOLDER         6   \n",
       "1     536365      71053                  WHITE METAL LANTERN         6   \n",
       "2     536365     84406B       CREAM CUPID HEARTS COAT HANGER         8   \n",
       "3     536365     84029G  KNITTED UNION FLAG HOT WATER BOTTLE         6   \n",
       "4     536365     84029E       RED WOOLLY HOTTIE WHITE HEART.         6   \n",
       "\n",
       "          invoice_date  unit_price  customer_id         country  \n",
       "0  2010-12-01 08:26:00        2.55        17850  United Kingdom  \n",
       "1  2010-12-01 08:26:00        3.39        17850  United Kingdom  \n",
       "2  2010-12-01 08:26:00        2.75        17850  United Kingdom  \n",
       "3  2010-12-01 08:26:00        3.39        17850  United Kingdom  \n",
       "4  2010-12-01 08:26:00        3.39        17850  United Kingdom  "
      ]
     },
     "execution_count": 12,
     "metadata": {},
     "output_type": "execute_result"
    }
   ],
   "source": [
    "# Step 7: Replace spaces in column names with underscores\n",
    "\n",
    "# Insert underscore between lowercase and uppercase letters, then lowercase the whole string\n",
    "df_full.columns = (\n",
    "    df_full.columns\n",
    "    .str.replace(r'(?<=[a-z])(?=[A-Z])', '_', regex=True)  # insert underscore before capital letter\n",
    "    .str.lower()\n",
    ")\n",
    "\n",
    "\n",
    "#Step 8: confirm changes\n",
    "print(df_full.columns)\n",
    "df_full.head()\n"
   ]
  },
  {
   "cell_type": "markdown",
   "id": "b5d389fd",
   "metadata": {},
   "source": [
    "Now that the dataset is cleaned we can start doing some visualisations for our analysis. First, we will do a preliminar descriptive statistic table."
   ]
  },
  {
   "cell_type": "code",
   "execution_count": 15,
   "id": "b40904b6",
   "metadata": {},
   "outputs": [
    {
     "name": "stderr",
     "output_type": "stream",
     "text": [
      "C:\\Users\\Sheila\\AppData\\Local\\Temp\\ipykernel_13704\\3141010679.py:2: DtypeWarning: Columns (0) have mixed types. Specify dtype option on import or set low_memory=False.\n",
      "  df_full = pd.read_csv(\"Data/Inputs/Cleaned_Online_Retail_Full.csv\")\n"
     ]
    },
    {
     "name": "stdout",
     "output_type": "stream",
     "text": [
      "        InvoiceNo StockCode                         Description  \\\n",
      "count    530104.0    530104                              530104   \n",
      "unique    19962.0      3922                                4026   \n",
      "top      573585.0    85123A  WHITE HANGING HEART T-LIGHT HOLDER   \n",
      "freq       1114.0      2265                                2323   \n",
      "mean          NaN       NaN                                 NaN   \n",
      "std           NaN       NaN                                 NaN   \n",
      "min           NaN       NaN                                 NaN   \n",
      "25%           NaN       NaN                                 NaN   \n",
      "50%           NaN       NaN                                 NaN   \n",
      "75%           NaN       NaN                                 NaN   \n",
      "max           NaN       NaN                                 NaN   \n",
      "\n",
      "             Quantity          InvoiceDate      UnitPrice     CustomerID  \\\n",
      "count   530104.000000               530104  530104.000000  530104.000000   \n",
      "unique            NaN                18499            NaN            NaN   \n",
      "top               NaN  2011-10-31 14:41:00            NaN            NaN   \n",
      "freq              NaN                 1114            NaN            NaN   \n",
      "mean        10.542037                  NaN       3.907625   15292.571875   \n",
      "std        155.524124                  NaN      35.915681    1484.197955   \n",
      "min          1.000000                  NaN       0.001000   12346.000000   \n",
      "25%          1.000000                  NaN       1.250000   14383.000000   \n",
      "50%          3.000000                  NaN       2.080000   15287.000000   \n",
      "75%         10.000000                  NaN       4.130000   16265.000000   \n",
      "max      80995.000000                  NaN   13541.330000   18287.000000   \n",
      "\n",
      "               Country  \n",
      "count           530104  \n",
      "unique              38  \n",
      "top     United Kingdom  \n",
      "freq            485123  \n",
      "mean               NaN  \n",
      "std                NaN  \n",
      "min                NaN  \n",
      "25%                NaN  \n",
      "50%                NaN  \n",
      "75%                NaN  \n",
      "max                NaN  \n"
     ]
    }
   ],
   "source": [
    "\n",
    "# Step 9: Load the cleaned dataset \n",
    "df_full = pd.read_csv(\"Data/Inputs/Cleaned_Online_Retail_Full.csv\")\n",
    "\n",
    "# Step 10: Create descriptive statistics table for all columns\n",
    "desc_stats_all = df_full.describe(include='all')\n",
    "\n",
    "# Step 11: Display the full descriptive statistics table\n",
    "print(desc_stats_all)\n",
    "\n",
    "#Step 12: Save the descriptive statistics table to a CSV file\n",
    "desc_stats_all.to_csv(\"Data/Inputs/Descriptive_Statistics_All.csv\", index=True)"
   ]
  },
  {
   "cell_type": "markdown",
   "id": "09a81371",
   "metadata": {},
   "source": [
    "I have realised that despite the changes I did to the labels to make them look uniform, they still appear as in the original file. This has happened maybe because I did the changes after loading the file to the inputs folder. So, we will change the labels again."
   ]
  },
  {
   "cell_type": "code",
   "execution_count": null,
   "id": "8787458e",
   "metadata": {},
   "outputs": [
    {
     "data": {
      "text/html": [
       "<div>\n",
       "<style scoped>\n",
       "    .dataframe tbody tr th:only-of-type {\n",
       "        vertical-align: middle;\n",
       "    }\n",
       "\n",
       "    .dataframe tbody tr th {\n",
       "        vertical-align: top;\n",
       "    }\n",
       "\n",
       "    .dataframe thead th {\n",
       "        text-align: right;\n",
       "    }\n",
       "</style>\n",
       "<table border=\"1\" class=\"dataframe\">\n",
       "  <thead>\n",
       "    <tr style=\"text-align: right;\">\n",
       "      <th></th>\n",
       "      <th>invoice_no</th>\n",
       "      <th>stock_code</th>\n",
       "      <th>description</th>\n",
       "      <th>quantity</th>\n",
       "      <th>invoice_date</th>\n",
       "      <th>unit_price</th>\n",
       "      <th>customer_id</th>\n",
       "      <th>country</th>\n",
       "    </tr>\n",
       "  </thead>\n",
       "  <tbody>\n",
       "    <tr>\n",
       "      <th>0</th>\n",
       "      <td>536365</td>\n",
       "      <td>85123A</td>\n",
       "      <td>WHITE HANGING HEART T-LIGHT HOLDER</td>\n",
       "      <td>6</td>\n",
       "      <td>2010-12-01 08:26:00</td>\n",
       "      <td>2.55</td>\n",
       "      <td>17850</td>\n",
       "      <td>United Kingdom</td>\n",
       "    </tr>\n",
       "    <tr>\n",
       "      <th>1</th>\n",
       "      <td>536365</td>\n",
       "      <td>71053</td>\n",
       "      <td>WHITE METAL LANTERN</td>\n",
       "      <td>6</td>\n",
       "      <td>2010-12-01 08:26:00</td>\n",
       "      <td>3.39</td>\n",
       "      <td>17850</td>\n",
       "      <td>United Kingdom</td>\n",
       "    </tr>\n",
       "    <tr>\n",
       "      <th>2</th>\n",
       "      <td>536365</td>\n",
       "      <td>84406B</td>\n",
       "      <td>CREAM CUPID HEARTS COAT HANGER</td>\n",
       "      <td>8</td>\n",
       "      <td>2010-12-01 08:26:00</td>\n",
       "      <td>2.75</td>\n",
       "      <td>17850</td>\n",
       "      <td>United Kingdom</td>\n",
       "    </tr>\n",
       "    <tr>\n",
       "      <th>3</th>\n",
       "      <td>536365</td>\n",
       "      <td>84029G</td>\n",
       "      <td>KNITTED UNION FLAG HOT WATER BOTTLE</td>\n",
       "      <td>6</td>\n",
       "      <td>2010-12-01 08:26:00</td>\n",
       "      <td>3.39</td>\n",
       "      <td>17850</td>\n",
       "      <td>United Kingdom</td>\n",
       "    </tr>\n",
       "    <tr>\n",
       "      <th>4</th>\n",
       "      <td>536365</td>\n",
       "      <td>84029E</td>\n",
       "      <td>RED WOOLLY HOTTIE WHITE HEART.</td>\n",
       "      <td>6</td>\n",
       "      <td>2010-12-01 08:26:00</td>\n",
       "      <td>3.39</td>\n",
       "      <td>17850</td>\n",
       "      <td>United Kingdom</td>\n",
       "    </tr>\n",
       "  </tbody>\n",
       "</table>\n",
       "</div>"
      ],
      "text/plain": [
       "  invoice_no stock_code                          description  quantity  \\\n",
       "0     536365     85123A   WHITE HANGING HEART T-LIGHT HOLDER         6   \n",
       "1     536365      71053                  WHITE METAL LANTERN         6   \n",
       "2     536365     84406B       CREAM CUPID HEARTS COAT HANGER         8   \n",
       "3     536365     84029G  KNITTED UNION FLAG HOT WATER BOTTLE         6   \n",
       "4     536365     84029E       RED WOOLLY HOTTIE WHITE HEART.         6   \n",
       "\n",
       "          invoice_date  unit_price  customer_id         country  \n",
       "0  2010-12-01 08:26:00        2.55        17850  United Kingdom  \n",
       "1  2010-12-01 08:26:00        3.39        17850  United Kingdom  \n",
       "2  2010-12-01 08:26:00        2.75        17850  United Kingdom  \n",
       "3  2010-12-01 08:26:00        3.39        17850  United Kingdom  \n",
       "4  2010-12-01 08:26:00        3.39        17850  United Kingdom  "
      ]
     },
     "execution_count": 16,
     "metadata": {},
     "output_type": "execute_result"
    }
   ],
   "source": [
    "# Step 13 Rename columns ex: from InvoiceDate → invoice_date\n",
    "df_full.columns = (\n",
    "    df_full.columns\n",
    "    .str.replace(r'(?<=[a-z])(?=[A-Z])', '_', regex=True)  # insert underscores\n",
    "    .str.lower()\n",
    ")\n",
    "\n",
    "# Step 14 Then save it back to CSV to preserve the change\n",
    "df_full.to_csv(\"Data/Inputs/Cleaned_Online_Retail_Full.csv\", index=False)\n",
    "df_full.head()\n"
   ]
  },
  {
   "cell_type": "markdown",
   "id": "eb87578d",
   "metadata": {},
   "source": [
    "After fixed the labels, we will explain the key observations of the descriptive statistics table.\n",
    "During the preliminary inspection, in the \"quantity\" column there was a maximum of 80,995;some huge purchases may distort our analysis (someone ordering 80,000+ items is not normal).But since we do not know if they are mistakes or just punctual purchases we will leave them in the dataset. \n",
    "    \n",
    "Also there was a minimum of -80,995. Negative values maybe mean returns or data errors. So what we did is to remove rows where Quantity <= 0 to clean the dataset and we kept only the numeric quantities >= 0. It was the same case for the \"uni_price\" column the minimum price was -£11,062 which clearly invalid, thus, we deleted the prices <= 0, too. (Check step 4 above) \n",
    "\n",
    "\n",
    "What we can observe is that:\n",
    " 1. Quantity\n",
    "    -The mean is about 9.55 items per transaction.\n",
    "    -The median (50%) is only 3 items, which means most purchases are small.\n",
    " 2. Unit price\n",
    "    -The mean price is £4.61, but the standard deviation  is quite elevated (std): £96.76. This maybe explained because the maximum price is £38,970 which could be an outlier.\n",
    " 3. Customer\n",
    "    -There are no missing values now. So, I could later on customer-level analysis: frequency, loyalty, total spend, etc. Using this column o identify top customers or segment by purchasing behaviour.\n",
    " 4. Country\n",
    "    -There are 38 unique countries. United Kingdom accounts for 495,478 out of 541,909 transactions which we calcualted that is 91% of our data. UK is the main market.Later on, we could compare UK vs. other countries to find different trends creating visualisations of top countries by revenue or orders.    \n",
    " 5. Description / StockCode / Invoice_No  \n",
    "    -We observe that most sold item: \"WHITE HANGING HEART T-LIGHT HOLDER\" (2,369 times). So, This is our bestseller.\n",
    " 6. Invoice_date\n",
    "    \n",
    "    -The most frequent time: 31 Oct 2011, 14:41. Later on, we could visualise trends like busiest hours, days, or months. To understand  and identify customer patterns. \n",
    "\n"
   ]
  },
  {
   "cell_type": "markdown",
   "id": "364400b1",
   "metadata": {},
   "source": [
    "Now, we will load the cleaned dataset from the \"Inputs\" folder and then we will modify the Invoice_date column to be able to visualise busiest hours, days or months.\n"
   ]
  },
  {
   "cell_type": "code",
   "execution_count": 25,
   "id": "9ec67478",
   "metadata": {},
   "outputs": [
    {
     "name": "stderr",
     "output_type": "stream",
     "text": [
      "C:\\Users\\Sheila\\AppData\\Local\\Temp\\ipykernel_13704\\3938876516.py:2: DtypeWarning: Columns (0) have mixed types. Specify dtype option on import or set low_memory=False.\n",
      "  df_full = pd.read_csv(\"Data/Inputs/Cleaned_Online_Retail_Full.csv\")\n"
     ]
    },
    {
     "data": {
      "text/html": [
       "<div>\n",
       "<style scoped>\n",
       "    .dataframe tbody tr th:only-of-type {\n",
       "        vertical-align: middle;\n",
       "    }\n",
       "\n",
       "    .dataframe tbody tr th {\n",
       "        vertical-align: top;\n",
       "    }\n",
       "\n",
       "    .dataframe thead th {\n",
       "        text-align: right;\n",
       "    }\n",
       "</style>\n",
       "<table border=\"1\" class=\"dataframe\">\n",
       "  <thead>\n",
       "    <tr style=\"text-align: right;\">\n",
       "      <th></th>\n",
       "      <th>invoice_no</th>\n",
       "      <th>stock_code</th>\n",
       "      <th>description</th>\n",
       "      <th>quantity</th>\n",
       "      <th>invoice_date</th>\n",
       "      <th>unit_price</th>\n",
       "      <th>customer_id</th>\n",
       "      <th>country</th>\n",
       "      <th>year</th>\n",
       "      <th>month</th>\n",
       "      <th>day</th>\n",
       "      <th>day_of_week</th>\n",
       "      <th>week_of_year</th>\n",
       "      <th>quarter</th>\n",
       "    </tr>\n",
       "  </thead>\n",
       "  <tbody>\n",
       "    <tr>\n",
       "      <th>0</th>\n",
       "      <td>536365</td>\n",
       "      <td>85123A</td>\n",
       "      <td>WHITE HANGING HEART T-LIGHT HOLDER</td>\n",
       "      <td>6</td>\n",
       "      <td>2010-12-01 08:26:00</td>\n",
       "      <td>2.55</td>\n",
       "      <td>17850</td>\n",
       "      <td>United Kingdom</td>\n",
       "      <td>2010</td>\n",
       "      <td>12</td>\n",
       "      <td>1</td>\n",
       "      <td>Wednesday</td>\n",
       "      <td>48</td>\n",
       "      <td>4</td>\n",
       "    </tr>\n",
       "    <tr>\n",
       "      <th>1</th>\n",
       "      <td>536365</td>\n",
       "      <td>71053</td>\n",
       "      <td>WHITE METAL LANTERN</td>\n",
       "      <td>6</td>\n",
       "      <td>2010-12-01 08:26:00</td>\n",
       "      <td>3.39</td>\n",
       "      <td>17850</td>\n",
       "      <td>United Kingdom</td>\n",
       "      <td>2010</td>\n",
       "      <td>12</td>\n",
       "      <td>1</td>\n",
       "      <td>Wednesday</td>\n",
       "      <td>48</td>\n",
       "      <td>4</td>\n",
       "    </tr>\n",
       "    <tr>\n",
       "      <th>2</th>\n",
       "      <td>536365</td>\n",
       "      <td>84406B</td>\n",
       "      <td>CREAM CUPID HEARTS COAT HANGER</td>\n",
       "      <td>8</td>\n",
       "      <td>2010-12-01 08:26:00</td>\n",
       "      <td>2.75</td>\n",
       "      <td>17850</td>\n",
       "      <td>United Kingdom</td>\n",
       "      <td>2010</td>\n",
       "      <td>12</td>\n",
       "      <td>1</td>\n",
       "      <td>Wednesday</td>\n",
       "      <td>48</td>\n",
       "      <td>4</td>\n",
       "    </tr>\n",
       "    <tr>\n",
       "      <th>3</th>\n",
       "      <td>536365</td>\n",
       "      <td>84029G</td>\n",
       "      <td>KNITTED UNION FLAG HOT WATER BOTTLE</td>\n",
       "      <td>6</td>\n",
       "      <td>2010-12-01 08:26:00</td>\n",
       "      <td>3.39</td>\n",
       "      <td>17850</td>\n",
       "      <td>United Kingdom</td>\n",
       "      <td>2010</td>\n",
       "      <td>12</td>\n",
       "      <td>1</td>\n",
       "      <td>Wednesday</td>\n",
       "      <td>48</td>\n",
       "      <td>4</td>\n",
       "    </tr>\n",
       "    <tr>\n",
       "      <th>4</th>\n",
       "      <td>536365</td>\n",
       "      <td>84029E</td>\n",
       "      <td>RED WOOLLY HOTTIE WHITE HEART.</td>\n",
       "      <td>6</td>\n",
       "      <td>2010-12-01 08:26:00</td>\n",
       "      <td>3.39</td>\n",
       "      <td>17850</td>\n",
       "      <td>United Kingdom</td>\n",
       "      <td>2010</td>\n",
       "      <td>12</td>\n",
       "      <td>1</td>\n",
       "      <td>Wednesday</td>\n",
       "      <td>48</td>\n",
       "      <td>4</td>\n",
       "    </tr>\n",
       "  </tbody>\n",
       "</table>\n",
       "</div>"
      ],
      "text/plain": [
       "  invoice_no stock_code                          description  quantity  \\\n",
       "0     536365     85123A   WHITE HANGING HEART T-LIGHT HOLDER         6   \n",
       "1     536365      71053                  WHITE METAL LANTERN         6   \n",
       "2     536365     84406B       CREAM CUPID HEARTS COAT HANGER         8   \n",
       "3     536365     84029G  KNITTED UNION FLAG HOT WATER BOTTLE         6   \n",
       "4     536365     84029E       RED WOOLLY HOTTIE WHITE HEART.         6   \n",
       "\n",
       "         invoice_date  unit_price  customer_id         country  year  month  \\\n",
       "0 2010-12-01 08:26:00        2.55        17850  United Kingdom  2010     12   \n",
       "1 2010-12-01 08:26:00        3.39        17850  United Kingdom  2010     12   \n",
       "2 2010-12-01 08:26:00        2.75        17850  United Kingdom  2010     12   \n",
       "3 2010-12-01 08:26:00        3.39        17850  United Kingdom  2010     12   \n",
       "4 2010-12-01 08:26:00        3.39        17850  United Kingdom  2010     12   \n",
       "\n",
       "   day day_of_week  week_of_year  quarter  \n",
       "0    1   Wednesday            48        4  \n",
       "1    1   Wednesday            48        4  \n",
       "2    1   Wednesday            48        4  \n",
       "3    1   Wednesday            48        4  \n",
       "4    1   Wednesday            48        4  "
      ]
     },
     "execution_count": 25,
     "metadata": {},
     "output_type": "execute_result"
    }
   ],
   "source": [
    "# Step 15: Load the cleaned dataset again\n",
    "df_full = pd.read_csv(\"Data/Inputs/Cleaned_Online_Retail_Full.csv\")\n",
    "\n",
    "# Step 16: convert date column to datetime. \n",
    "df_full['invoice_date'] = pd.to_datetime(df_full['invoice_date'])\n",
    "df_full['year'] = df_full['invoice_date'].dt.year\n",
    "df_full['month'] = df_full['invoice_date'].dt.month \n",
    "df_full['day'] = df_full['invoice_date'].dt.day\n",
    "df_full['day_of_week'] = df_full['invoice_date'].dt.day_name()\n",
    "df_full['week_of_year'] = df_full['invoice_date'].dt.isocalendar().week\n",
    "df_full['quarter'] = df_full['invoice_date'].dt.quarter\n",
    "# Step 17: Save the updated dataset with new date columns\n",
    "df_full.to_csv(\"Data/Inputs/Cleaned_Online_Retail_Full.csv\", index=False)   \n",
    "df_full.head()\n"
   ]
  },
  {
   "cell_type": "markdown",
   "id": "d1b0bc83",
   "metadata": {},
   "source": [
    "Now, we will create the following primary visualisations based on the descriptive statistics table.\n",
    "1. Histogram of Unit_price: It will show the price distribution of products. We will use it to detect pricing trends or outliers."
   ]
  },
  {
   "cell_type": "code",
   "execution_count": null,
   "id": "2f686452",
   "metadata": {},
   "outputs": [
    {
     "data": {
      "image/png": "[encoded data removed]",
      "text/plain": [
       "<Figure size 1000x500 with 1 Axes>"
      ]
     },
     "metadata": {},
     "output_type": "display_data"
    }
   ],
   "source": [
    "# Step 18: Visualize a histogram of the unit price.\n",
    "plt.figure(figsize=(10, 5))\n",
    "sns.histplot(df_full['unit_price'], bins=100, kde=True)\n",
    "plt.title(\"Distribution of Unit Prices\")\n",
    "plt.xlabel(\"Unit Price (£)\")\n",
    "plt.ylabel(\"Frequency\")\n",
    "plt.tight_layout()\n",
    "plt.show()\n"
   ]
  },
  {
   "cell_type": "markdown",
   "id": "86218d8c",
   "metadata": {},
   "source": [
    "The histogram look \"strange\" like a long stick probably because   the  dataset contains very high unit prices, like £38,970 and most unit prices are small (e.g., under £10), but a few massive outliers stretch the range. As a result, most of the bars are squashed into the left of the histogram. To find a solution, we will filter the data to remove extreme prices, and reduce the range of prices(bins) from 100 to 50, like this the bars are more visible."
   ]
  },
  {
   "cell_type": "code",
   "execution_count": null,
   "id": "2d35ba4e",
   "metadata": {},
   "outputs": [
    {
     "data": {
      "text/plain": [
       "<Axes: xlabel='unit_price', ylabel='Count'>"
      ]
     },
     "execution_count": 31,
     "metadata": {},
     "output_type": "execute_result"
    },
    {
     "data": {
      "image/png": "[encoded data removed]",
      "text/plain": [
       "<Figure size 640x480 with 1 Axes>"
      ]
     },
     "metadata": {},
     "output_type": "display_data"
    }
   ],
   "source": [
    "# Step 19 Filter to more realistic unit prices (e.g. under £100)\n",
    "filtered_df = df_full[df_full['unit_price'] < 100]\n",
    "\n",
    "# Step 20: Plot again\n",
    "sns.histplot(filtered_df['unit_price'], bins=50, kde=True)\n"
   ]
  },
  {
   "cell_type": "markdown",
   "id": "014c174d",
   "metadata": {},
   "source": [
    "The figure above shows a right skewed distribution which means that the majority of the prices of the product purchased are < £10. which explains why the mean price is £4.61."
   ]
  },
  {
   "cell_type": "markdown",
   "id": "f9d286db",
   "metadata": {},
   "source": [
    "2. Box plots: it will help to identify anomalies and grasp normal buying levels. It will be good for skewed data like quantities."
   ]
  },
  {
   "cell_type": "code",
   "execution_count": 32,
   "id": "79bd4c33",
   "metadata": {},
   "outputs": [
    {
     "data": {
      "image/png": "[encoded data removed]",
      "text/plain": [
       "<Figure size 1000x500 with 1 Axes>"
      ]
     },
     "metadata": {},
     "output_type": "display_data"
    }
   ],
   "source": [
    "# Step 21: Visualize the distribution of quantities     \n",
    "plt.figure(figsize=(10, 5))\n",
    "sns.histplot(df_full['quantity'], bins=100, kde=True)   \n",
    "plt.title(\"Distribution of Quantities\")\n",
    "plt.xlabel(\"Quantity\")\n",
    "plt.ylabel(\"Frequency\")\n",
    "plt.tight_layout()\n",
    "plt.show()\n"
   ]
  },
  {
   "cell_type": "markdown",
   "id": "0d8f77b5",
   "metadata": {},
   "source": [
    "We have had the same issue as in the previous visualisation, so we will filter in this one, too, to get a more clear distribution."
   ]
  },
  {
   "cell_type": "code",
   "execution_count": 46,
   "id": "77134e5b",
   "metadata": {},
   "outputs": [
    {
     "data": {
      "image/png": "[encoded data removed]",
      "text/plain": [
       "<Figure size 1000x500 with 1 Axes>"
      ]
     },
     "metadata": {},
     "output_type": "display_data"
    }
   ],
   "source": [
    "\n",
    "# Step 22: Filter to more realistic quantities (e.g. under 1000)\n",
    "filtered_df = df_full[df_full['quantity'] < 1000]\n",
    "# Step 23: Plot again\n",
    "plt.figure(figsize=(10, 5))\n",
    "sns.histplot(filtered_df['quantity'], bins=100, kde=True)\n",
    "plt.title(\"Distribution of Quantities (Filtered)\")\n",
    "plt.xlabel(\"Quantity\")\n",
    "plt.xlim(0, 100) # Set x-axis limit to 20\n",
    "plt.ylabel(\"Frequency\")\n",
    "plt.ylim(0, 700000) # Set y-axis limit to 700000 \n",
    "plt.tight_layout()\n",
    "plt.show()"
   ]
  },
  {
   "cell_type": "markdown",
   "id": "f812dde2",
   "metadata": {},
   "source": [
    "Also, in this case the distribution is right skewed which explains that the average of purchases was 9.55 items per customer and the median was 3 items per purchase."
   ]
  },
  {
   "cell_type": "markdown",
   "id": "fd7a9ddc",
   "metadata": {},
   "source": [
    "3. Bar charts: They are suitable for categorical data like in our dataset. This will show which products are our bestsellers."
   ]
  },
  {
   "cell_type": "code",
   "execution_count": 47,
   "id": "26aef652",
   "metadata": {},
   "outputs": [
    {
     "data": {
      "image/png": "[encoded data removed]",
      "text/plain": [
       "<Figure size 1000x600 with 1 Axes>"
      ]
     },
     "metadata": {},
     "output_type": "display_data"
    }
   ],
   "source": [
    "# Step 24: Visualise a Bar Chart of  the top 10 most sold products\n",
    "top_products = df_full['description'].value_counts().head(10)\n",
    "\n",
    "plt.figure(figsize=(10, 6))\n",
    "sns.barplot(x=top_products.values, y=top_products.index)\n",
    "plt.title(\"Top 10 Most Sold Products\")\n",
    "plt.xlabel(\"Number of Purchases\")\n",
    "plt.ylabel(\"Product\")\n",
    "plt.tight_layout()\n",
    "plt.show()\n"
   ]
  }
 ],
 "metadata": {
  "kernelspec": {
   "display_name": ".venv",
   "language": "python",
   "name": "python3"
  },
  "language_info": {
   "codemirror_mode": {
    "name": "ipython",
    "version": 3
   },
   "file_extension": ".py",
   "mimetype": "text/x-python",
   "name": "python",
   "nbconvert_exporter": "python",
   "pygments_lexer": "ipython3",
   "version": "3.12.8"
  }
 },
 "nbformat": 4,
 "nbformat_minor": 5
}
